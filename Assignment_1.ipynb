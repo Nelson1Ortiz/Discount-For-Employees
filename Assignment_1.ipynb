{
  "nbformat": 4,
  "nbformat_minor": 0,
  "metadata": {
    "colab": {
      "provenance": []
    },
    "kernelspec": {
      "name": "python3",
      "display_name": "Python 3"
    },
    "language_info": {
      "name": "python"
    }
  },
  "cells": [
    {
      "cell_type": "code",
      "source": [
        "# Lecture: Reza  ----  Lab: Maziar"
      ],
      "metadata": {
        "id": "lkFJTKvimUuP"
      },
      "execution_count": null,
      "outputs": []
    },
    {
      "cell_type": "code",
      "execution_count": 12,
      "metadata": {
        "id": "s9gjjVoamC3U"
      },
      "outputs": [],
      "source": [
        "def display_menu():\n",
        "    print(\"—————————————————————————————\")\n",
        "    print(\"|   1- Create Employee      |\")\n",
        "    print(\"|   2- Create Item          |\")\n",
        "    print(\"|   3- Make Purchase        |\")\n",
        "    print(\"|   4- All Employee Summary |\")\n",
        "    print(\"|   5- Exit                 |\")\n",
        "    print(\"—————————————————————————————\")\n"
      ]
    },
    {
      "cell_type": "code",
      "source": [
        "def input_employee_data():\n",
        "    employees = []\n",
        "    while True:\n",
        "        employee_id = input(\"Enter Employee ID (unique): \")\n",
        "        if employee_id in [emp[0] for emp in employees]:\n",
        "            print(\"Employee ID must be unique. Try again.\")\n",
        "            continue\n",
        "        employee_name = input(\"Enter Employee Name: \")\n",
        "        employee_type = input(\"Enter Employee Type (hourly/manager): \")\n",
        "        years_worked = input(\"Enter Years Worked: \")\n",
        "        employee_discount_number = input(\"Enter Employee Discount Number (unique): \")\n",
        "\n",
        "        # Validation\n",
        "        if not all([employee_id, employee_name, employee_type, years_worked, employee_discount_number]):\n",
        "            print(\"All fields are required.\")\n",
        "            continue\n",
        "        if employee_type not in [\"hourly\", \"manager\"]:\n",
        "            print(\"Employee type must be 'hourly' or 'manager'.\")\n",
        "            continue\n",
        "        try:\n",
        "            employee_id = int(employee_id)\n",
        "            years_worked = int(years_worked)\n",
        "            employee_discount_number = int(employee_discount_number)\n",
        "        except ValueError:\n",
        "            print(\"Employee ID, Years Worked, and Employee Discount Number must be numbers.\")\n",
        "            continue\n",
        "\n",
        "        employees.append([employee_id, employee_name, employee_type, years_worked, 0, 0, employee_discount_number])\n",
        "        if input(\"Add another employee? (YES/NO): \").upper() == \"NO\":\n",
        "            break\n",
        "    return employees\n"
      ],
      "metadata": {
        "id": "hSdfU9wjmRCc"
      },
      "execution_count": 5,
      "outputs": []
    },
    {
      "cell_type": "code",
      "source": [
        "def input_item_data():\n",
        "    items = []\n",
        "    while True:\n",
        "        item_number = input(\"Enter Item Number (unique): \")\n",
        "        if item_number in [item[0] for item in items]:\n",
        "            print(\"Item Number must be unique. Try again.\")\n",
        "            continue\n",
        "        item_name = input(\"Enter Item Name: \")\n",
        "        item_cost = input(\"Enter Item Cost: \")\n",
        "\n",
        "        # Validation\n",
        "        if not all([item_number, item_name, item_cost]):\n",
        "            print(\"All fields are required.\")\n",
        "            continue\n",
        "        try:\n",
        "            item_number = int(item_number)\n",
        "            item_cost = float(item_cost)\n",
        "        except ValueError:\n",
        "            print(\"Item Number and Item Cost must be numbers.\")\n",
        "            continue\n",
        "\n",
        "        items.append([item_number, item_name, item_cost])\n",
        "        if input(\"Add another item? (YES/NO): \").upper() == \"NO\":\n",
        "            break\n",
        "    return items\n"
      ],
      "metadata": {
        "id": "KLjtd5sEmRJT"
      },
      "execution_count": 6,
      "outputs": []
    },
    {
      "cell_type": "code",
      "source": [
        "def make_purchase(employees, items):\n",
        "    while True:\n",
        "        print(\"Available items for purchase:\")\n",
        "        print(\"Item Number | Item Name       | Item Cost\")\n",
        "        for item in items:\n",
        "            print(f\"{item[0]} | {item[1]} | ${item[2]:.2f}\")\n",
        "\n",
        "        item_number = int(input(\"Enter Item Number to purchase: \"))\n",
        "        employee_discount_number = int(input(\"Enter your Employee Discount Number: \"))\n",
        "\n",
        "        # Find the item and employee\n",
        "        item = next((i for i in items if i[0] == item_number), None)\n",
        "        employee = next((e for e in employees if e[6] == employee_discount_number), None)\n",
        "\n",
        "        if not item or not employee:\n",
        "            print(\"Invalid item number or discount number.\")\n",
        "            continue\n",
        "\n",
        "        # Calculate discount based on years worked, capped at 10%\n",
        "        years_worked_discount = min(employee[3] * 0.02, 0.10)\n",
        "\n",
        "        # Additional discount based on employee type\n",
        "        if employee[2] == \"manager\":\n",
        "            additional_discount = 0.10  # Managers get an extra 10%\n",
        "        else:\n",
        "            additional_discount = 0.02  # Hourly employees get an extra 2%\n",
        "\n",
        "        # Total discount percentage\n",
        "        total_discount_percentage = years_worked_discount + additional_discount\n",
        "\n",
        "        # Calculate discount amount\n",
        "        discount_amount = item[2] * total_discount_percentage\n",
        "\n",
        "        # Ensure total discount does not exceed $200\n",
        "        if employee[5] + discount_amount > 200:\n",
        "            discount_amount = max(0, 200 - employee[5])\n",
        "            total_discount_percentage = discount_amount / item[2]  # Recalculate discount percentage for receipt\n",
        "\n",
        "        # Apply discount, but not exceed $200 cap for total discounts\n",
        "        final_cost = item[2] - discount_amount\n",
        "        employee[4] += final_cost  # Update total purchased\n",
        "        employee[5] += discount_amount  # Update total discounts, ensure not to exceed $200\n",
        "\n",
        "        print(f\"Purchase complete. Final cost after discount: ${final_cost:.2f}. Total discount used: ${employee[5]:.2f}\")\n",
        "        print(f\"Discount percentage applied: {total_discount_percentage*100:.1f}%\")\n",
        "\n",
        "        if input(\"Another purchase? (YES/NO): \").upper() == \"NO\":\n",
        "            break\n",
        "\n"
      ],
      "metadata": {
        "id": "jsS9MDokmkA8"
      },
      "execution_count": 18,
      "outputs": []
    },
    {
      "cell_type": "code",
      "source": [
        "def display_all_employee_summary(employees):\n",
        "    # Define the format for each row\n",
        "    row_format = \"{:<12} | {:<20} | {:<10} | {:<12} | {:<15} | {:<14} | {:<25}\"\n",
        "\n",
        "    # Print the header with appropriate spacing\n",
        "    print(row_format.format(\"Employee ID\", \"Employee Name\", \"Type\", \"Years Worked\", \"Total Purchased\", \"Total Discount\", \"Employee Discount Number\"))\n",
        "    print(\"-\" * 120)  # Print a separator line\n",
        "\n",
        "    # Iterate over each employee and print their information with spacing\n",
        "    for e in employees:\n",
        "        print(row_format.format(e[0], e[1], e[2], e[3], f\"${e[4]:.2f}\", f\"${e[5]:.2f}\", e[6]))\n"
      ],
      "metadata": {
        "id": "NmMHaSURmtjH"
      },
      "execution_count": 17,
      "outputs": []
    },
    {
      "cell_type": "code",
      "source": [
        "def main():\n",
        "    employees = []\n",
        "    items = []\n",
        "\n",
        "    while True:\n",
        "        display_menu()\n",
        "        choice = input(\"Choose an option: \")\n",
        "\n",
        "        if choice == \"1\":\n",
        "            employees.extend(input_employee_data())\n",
        "        elif choice == \"2\":\n",
        "            items.extend(input_item_data())\n",
        "        elif choice == \"3\":\n",
        "            if not employees or not items:\n",
        "                print(\"Please ensure both employees and items are entered into the system.\")\n",
        "            else:\n",
        "                make_purchase(employees, items)\n",
        "        elif choice == \"4\":\n",
        "            display_all_employee_summary(employees)\n",
        "        elif choice == \"5\":\n",
        "            print(\"Exiting program.\")\n",
        "            break\n",
        "        else:\n",
        "            print(\"Invalid option, please try again.\")\n",
        "\n",
        "        if input(\"Return to menu? (YES/NO): \").upper() == \"NO\":\n",
        "            print(\"Exiting program.\")\n",
        "            break\n",
        "\n",
        "if __name__ == \"__main__\":\n",
        "    main()\n"
      ],
      "metadata": {
        "id": "pgST2jYNm4xp"
      },
      "execution_count": null,
      "outputs": []
    },
    {
      "cell_type": "code",
      "source": [],
      "metadata": {
        "id": "wdiGpVtqnllV"
      },
      "execution_count": null,
      "outputs": []
    }
  ]
}